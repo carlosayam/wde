{
 "cells": [
  {
   "cell_type": "code",
   "execution_count": 1,
   "metadata": {},
   "outputs": [],
   "source": [
    "%matplotlib notebook\n",
    "\n",
    "from __future__ import division\n",
    "import math\n",
    "import sys\n",
    "import os\n",
    "import csv\n",
    "import sqlite3\n",
    "import pandas\n",
    "import numpy as np\n",
    "from scipy.interpolate import interp1d\n",
    "from scipy.optimize import minimize\n",
    "\n",
    "\n",
    "from mpl_toolkits.mplot3d import Axes3D\n",
    "import matplotlib.pyplot as plt\n",
    "from matplotlib import cm\n",
    "\n",
    "sys.path.append('.')\n",
    "import scripts2d.utils as u\n",
    "from wde.estimator import WaveletDensityEstimator\n",
    "from wde.simple_estimator import SimpleWaveletDensityEstimator\n",
    "from wde.common import np_mult\n",
    "from wde.thresholding import soft_threshold, hard_threshold, block_threshold\n"
   ]
  },
  {
   "cell_type": "code",
   "execution_count": 2,
   "metadata": {
    "collapsed": true
   },
   "outputs": [],
   "source": [
    "def contour_plot_it(dists, data, title='Contour', fname=None):\n",
    "    fig = plt.figure(figsize=(4, 4), dpi=144)\n",
    "    X = np.linspace(0.0,1.0, num=75)\n",
    "    Y = np.linspace(0.0,1.0, num=75)\n",
    "    XX, YY = np.meshgrid(X, Y)\n",
    "    if type(dists) is not tuple:\n",
    "        dists=(dists,)\n",
    "    minz, maxz = float('inf'), float('-inf')\n",
    "    Zs = []\n",
    "    for dist in dists:\n",
    "        Z = dist.pdf((XX, YY))\n",
    "        Zs.append(Z)\n",
    "        minz = min(minz, Z.min())\n",
    "        maxz = max(maxz, Z.max())\n",
    "    levels = np.linspace(minz, maxz, num=10)\n",
    "    cmap = cm.get_cmap('BuGn')\n",
    "    if minz == 0:\n",
    "        levels = np.linspace(minz + (maxz-minz)/100, maxz, num=10)\n",
    "        cmap.set_under(\"magenta\")\n",
    "    linestyles = enumerate(['solid','dashed', 'dashdot', 'dotted'])\n",
    "    alphas = enumerate([0.4,1.0,0.2,0.2])\n",
    "    for dist, Z in zip(dists, Zs):\n",
    "        linestyle = next(linestyles)[1]\n",
    "        cs = plt.contour(XX, YY, Z, alpha=(next(alphas)[1]), linestyles=linestyle, levels=levels, extend='min', cmap=cmap)\n",
    "        if linestyle == 'dashed':\n",
    "            plt.clabel(cs, inline=1, fontsize=10)\n",
    "    plt.scatter(data[:,0], data[:,1], s=1, alpha=0.4)\n",
    "    #avg = data.mean(axis=0)\n",
    "    #plt.scatter(avg[0],avg[1], s=10, marker='+', color='r')\n",
    "    plt.title(title)\n",
    "    if fname is not None:\n",
    "        plt.savefig('data/%s' % fname, pad_inches=0.0, orientation='portrait', frameon=False)\n",
    "    plt.show()\n",
    "    \n",
    "def plot_it(dist, fname=None):\n",
    "    fig = plt.figure()\n",
    "    ax = fig.gca(projection='3d')\n",
    "    X = np.linspace(0.0,1.0, num=75)\n",
    "    Y = np.linspace(0.0,1.0, num=75)\n",
    "    XX, YY = np.meshgrid(X, Y)\n",
    "    Z = dist.pdf((XX, YY))\n",
    "    surf = ax.plot_surface(XX, YY, Z, edgecolors='k', linewidth=0.5, cmap=cm.get_cmap('BuGn'))\n",
    "    #ax.set_zlim(0, 5)\n",
    "    if fname is not None:\n",
    "        plt.savefig('data/%s' % fname, pad_inches=0.0, orientation='portrait', frameon=False)\n",
    "    plt.show()\n"
   ]
  },
  {
   "cell_type": "code",
   "execution_count": 22,
   "metadata": {},
   "outputs": [
    {
     "name": "stdout",
     "output_type": "stream",
     "text": [
      "ISE j0=3, j1=0: 0.369463442573\n",
      "ISE j0=1, j1=2: 0.369342915195\n"
     ]
    }
   ],
   "source": [
    "wde_glob = None\n",
    "def p11(n, wv, **kwargs):\n",
    "    global wde_glob\n",
    "    dist = u.dist_from_code('mix2')\n",
    "    data = dist.rvs(n)\n",
    "    wde = SimpleWaveletDensityEstimator(wv, **kwargs)\n",
    "    #print data.mean(axis=0)\n",
    "    wde.fit(data)\n",
    "    #print 'sum of coeffs',wde.norm_const\n",
    "    XX, YY = u.mise_mesh()\n",
    "    Z = dist.pdf((XX, YY))\n",
    "    ise = u.calc_ise(wde.pdf, Z)\n",
    "    print 'ISE j0=%d, j1=%d:' % (kwargs['j0'], kwargs['j1']), ise\n",
    "    if kwargs['j0'] <= kwargs['j1']:\n",
    "        kwargs['j0'] = kwargs['j1'] + 1\n",
    "    else:\n",
    "        kwargs['j1'] = kwargs['j0'] - 1\n",
    "        kwargs['j0'] = kwargs['j1'] - 1\n",
    "    wde = SimpleWaveletDensityEstimator(wv, **kwargs)\n",
    "    wde.fit(data)\n",
    "    Z = dist.pdf((XX, YY))\n",
    "    ise = u.calc_ise(wde.pdf, Z)\n",
    "    print 'ISE j0=%d, j1=%d:' % (kwargs['j0'], kwargs['j1']), ise\n",
    "    return\n",
    "    #swde = SimpleWaveletDensityEstimator(wv, **kwargs)\n",
    "    #swde.fit(data)\n",
    "    #ise = u.calc_ise(swde.pdf, Z)\n",
    "    print 'ISE simple:', ise\n",
    "    #contour_plot_it((dist,), data, 'Mult & WDE - n=%d, wv=%s, j0=%d, j1=%d' % (n, wv, kwargs['j0'], kwargs['j1']))\n",
    "    #plot_it(dist, fname='mix2-true')\n",
    "    #plot_it(wde, fname='mix2-wde')\n",
    "    #plot_it(swde, fname='mix2-classic')\n",
    "    wde_glob = wde\n",
    "p11(1024, 'db2', j0=3, j1=0)"
   ]
  },
  {
   "cell_type": "code",
   "execution_count": 4,
   "metadata": {},
   "outputs": [],
   "source": [
    "import scipy.stats as stats\n",
    "def xx():\n",
    "    dist = stats.dirichlet(alpha=[2,3,3])\n",
    "    x = dist.rvs(1000)[:,[0,1]]\n",
    "    x = np.stack([np.power(x[:,0],1/4), x[:,1]], axis=1)\n",
    "    print x.shape\n",
    "    plt.figure()\n",
    "    plt.scatter(x[:,0], x[:,1], alpha=0.2)\n",
    "    plt.xlim([0,1])\n",
    "    plt.ylim([0,1])\n",
    "    plt.show()\n",
    "#xx()"
   ]
  },
  {
   "cell_type": "code",
   "execution_count": 5,
   "metadata": {},
   "outputs": [],
   "source": [
    "def pp():\n",
    "    X = np.linspace(1/255,1.0, num=255)\n",
    "    Y = np.linspace(1/255,1.0, num=255)\n",
    "    XX, YY = np.meshgrid(X, Y) # X,Y\n",
    "    ZZ = 1 - XX - YY\n",
    "    print ZZ.shape\n",
    "    zpos = (ZZ > 0) & (ZZ <= 1)\n",
    "    print zpos.shape\n",
    "    ZZm = ZZ[zpos]\n",
    "    XXm = XX[zpos]\n",
    "    YYm = YY[zpos]\n",
    "    dist = stats.dirichlet(alpha=[2,3,5])\n",
    "    print ZZm.shape\n",
    "    print np.min(XXm),np.min(YYm),np.min(ZZm)\n",
    "    vals = dist.pdf((XXm, YYm, ZZm))\n",
    "    resp = np.zeros(ZZ.shape)\n",
    "    it = np.nditer(resp, op_flags=['writeonly'])\n",
    "    it2 = np.nditer(zpos, op_flags=['readonly'])\n",
    "    ix = 0\n",
    "    while not it.finished:\n",
    "        if it2[0]:\n",
    "            it[0] = vals[ix]\n",
    "            ix += 1\n",
    "        it.iternext()\n",
    "        it2.iternext()\n",
    "    print ix, vals.shape\n",
    "    print resp.shape\n",
    "    print resp.sum()/(255*255)\n",
    "#pp()\n"
   ]
  },
  {
   "cell_type": "code",
   "execution_count": 6,
   "metadata": {},
   "outputs": [],
   "source": [
    "def qq():\n",
    "    dist = u.dist_from_code('mult')\n",
    "    XX, YY = u.mise_mesh()\n",
    "    vv = dist.pdf((XX, YY))\n",
    "    print vv.shape\n",
    "#qq()"
   ]
  },
  {
   "cell_type": "code",
   "execution_count": null,
   "metadata": {
    "collapsed": true
   },
   "outputs": [],
   "source": []
  }
 ],
 "metadata": {
  "kernelspec": {
   "display_name": "Python 2",
   "language": "python",
   "name": "python2"
  },
  "language_info": {
   "codemirror_mode": {
    "name": "ipython",
    "version": 2
   },
   "file_extension": ".py",
   "mimetype": "text/x-python",
   "name": "python",
   "nbconvert_exporter": "python",
   "pygments_lexer": "ipython2",
   "version": "2.7.13"
  }
 },
 "nbformat": 4,
 "nbformat_minor": 2
}
