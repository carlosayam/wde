{
 "cells": [
  {
   "cell_type": "code",
   "execution_count": 1,
   "metadata": {
    "collapsed": true
   },
   "outputs": [],
   "source": [
    "%matplotlib notebook\n",
    "\n",
    "from __future__ import division\n",
    "import math\n",
    "import sys\n",
    "import os\n",
    "import csv\n",
    "import sqlite3\n",
    "import pandas\n",
    "import numpy as np\n",
    "from scipy.interpolate import interp1d\n",
    "from scipy.optimize import minimize\n",
    "\n",
    "\n",
    "from mpl_toolkits.mplot3d import Axes3D\n",
    "import matplotlib.pyplot as plt\n",
    "from matplotlib import cm\n",
    "\n",
    "sys.path.append('.')\n",
    "import scripts2d.utils as u\n",
    "from wde.estimator import WaveletDensityEstimator\n",
    "from wde.simple_estimator import SimpleWaveletDensityEstimator\n",
    "from wde.common import np_mult\n",
    "from wde.thresholding import soft_threshold, hard_threshold, block_threshold\n"
   ]
  },
  {
   "cell_type": "code",
   "execution_count": 2,
   "metadata": {
    "collapsed": true
   },
   "outputs": [],
   "source": [
    "def contour_plot_it(dists, data, title='Contour', fname=None):\n",
    "    fig = plt.figure(figsize=(4, 4), dpi=144)\n",
    "    X = np.linspace(0.0,1.0, num=75)\n",
    "    Y = np.linspace(0.0,1.0, num=75)\n",
    "    XX, YY = np.meshgrid(X, Y)\n",
    "    if type(dists) is not tuple:\n",
    "        dists=(dists,)\n",
    "    minz, maxz = float('inf'), float('-inf')\n",
    "    Zs = []\n",
    "    for dist in dists:\n",
    "        Z = dist.pdf((XX, YY))\n",
    "        Zs.append(Z)\n",
    "        minz = min(minz, Z.min())\n",
    "        maxz = max(maxz, Z.max())\n",
    "    levels = np.linspace(minz, maxz, num=10)\n",
    "    cmap = cm.get_cmap('BuGn')\n",
    "    if minz == 0:\n",
    "        levels = np.linspace(minz + (maxz-minz)/100, maxz, num=10)\n",
    "        cmap.set_under(\"magenta\")\n",
    "    linestyles = enumerate(['solid','dashed', 'dashdot', 'dotted'])\n",
    "    alphas = enumerate([0.4,1.0,0.2,0.2])\n",
    "    for dist, Z in zip(dists, Zs):\n",
    "        linestyle = next(linestyles)[1]\n",
    "        cs = plt.contour(XX, YY, Z, alpha=(next(alphas)[1]), linestyles=linestyle, levels=levels, extend='min', cmap=cmap)\n",
    "        if linestyle == 'dashed':\n",
    "            plt.clabel(cs, inline=1, fontsize=10)\n",
    "    plt.scatter(data[:,0], data[:,1], s=1, alpha=0.4)\n",
    "    #avg = data.mean(axis=0)\n",
    "    #plt.scatter(avg[0],avg[1], s=10, marker='+', color='r')\n",
    "    plt.title(title)\n",
    "    if fname is not None:\n",
    "        plt.savefig('data/%s' % fname, pad_inches=0.0, orientation='portrait', frameon=False)\n",
    "    plt.show()\n",
    "    \n",
    "def plot_it(dist, fname=None):\n",
    "    fig = plt.figure()\n",
    "    ax = fig.gca(projection='3d')\n",
    "    X = np.linspace(0.0,1.0, num=75)\n",
    "    Y = np.linspace(0.0,1.0, num=75)\n",
    "    XX, YY = np.meshgrid(X, Y)\n",
    "    Z = dist.pdf((XX, YY))\n",
    "    surf = ax.plot_surface(XX, YY, Z, edgecolors='k', linewidth=0.5, cmap=cm.get_cmap('BuGn'))\n",
    "    #ax.set_zlim(0, 5)\n",
    "    if fname is not None:\n",
    "        plt.savefig('data/%s' % fname, pad_inches=0.0, orientation='portrait', frameon=False)\n",
    "    plt.show()\n"
   ]
  },
  {
   "cell_type": "code",
   "execution_count": 5,
   "metadata": {},
   "outputs": [
    {
     "ename": "ValueError",
     "evalue": "wave family Biorthogonal not known support",
     "output_type": "error",
     "traceback": [
      "\u001b[0;31m---------------------------------------------------------------------------\u001b[0m",
      "\u001b[0;31mValueError\u001b[0m                                Traceback (most recent call last)",
      "\u001b[0;32m<ipython-input-5-d20f82ab72d5>\u001b[0m in \u001b[0;36m<module>\u001b[0;34m()\u001b[0m\n\u001b[1;32m     14\u001b[0m     \u001b[0mcontour_plot_it\u001b[0m\u001b[0;34m(\u001b[0m\u001b[0;34m(\u001b[0m\u001b[0mdist\u001b[0m\u001b[0;34m,\u001b[0m\u001b[0;34m)\u001b[0m\u001b[0;34m,\u001b[0m \u001b[0mdata\u001b[0m\u001b[0;34m,\u001b[0m \u001b[0;34m'Mult & WDE - n=%d, wv=%s, j0=%d, j1=%d'\u001b[0m \u001b[0;34m%\u001b[0m \u001b[0;34m(\u001b[0m\u001b[0mn\u001b[0m\u001b[0;34m,\u001b[0m \u001b[0mwv\u001b[0m\u001b[0;34m,\u001b[0m \u001b[0mkwargs\u001b[0m\u001b[0;34m[\u001b[0m\u001b[0;34m'j0'\u001b[0m\u001b[0;34m]\u001b[0m\u001b[0;34m,\u001b[0m \u001b[0mkwargs\u001b[0m\u001b[0;34m[\u001b[0m\u001b[0;34m'j1'\u001b[0m\u001b[0;34m]\u001b[0m\u001b[0;34m)\u001b[0m\u001b[0;34m)\u001b[0m\u001b[0;34m\u001b[0m\u001b[0m\n\u001b[1;32m     15\u001b[0m     \u001b[0mwde_glob\u001b[0m \u001b[0;34m=\u001b[0m \u001b[0mwde\u001b[0m\u001b[0;34m\u001b[0m\u001b[0m\n\u001b[0;32m---> 16\u001b[0;31m \u001b[0mp11\u001b[0m\u001b[0;34m(\u001b[0m\u001b[0;36m512\u001b[0m\u001b[0;34m,\u001b[0m \u001b[0;34m'bior4.4'\u001b[0m\u001b[0;34m,\u001b[0m \u001b[0mj0\u001b[0m\u001b[0;34m=\u001b[0m\u001b[0;36m3\u001b[0m\u001b[0;34m,\u001b[0m \u001b[0mj1\u001b[0m\u001b[0;34m=\u001b[0m\u001b[0;36m0\u001b[0m\u001b[0;34m)\u001b[0m\u001b[0;34m\u001b[0m\u001b[0m\n\u001b[0m",
      "\u001b[0;32m<ipython-input-5-d20f82ab72d5>\u001b[0m in \u001b[0;36mp11\u001b[0;34m(n, wv, **kwargs)\u001b[0m\n\u001b[1;32m      4\u001b[0m     \u001b[0mdist\u001b[0m \u001b[0;34m=\u001b[0m \u001b[0mu\u001b[0m\u001b[0;34m.\u001b[0m\u001b[0mdist_from_code\u001b[0m\u001b[0;34m(\u001b[0m\u001b[0;34m'mix2'\u001b[0m\u001b[0;34m)\u001b[0m\u001b[0;34m\u001b[0m\u001b[0m\n\u001b[1;32m      5\u001b[0m     \u001b[0mdata\u001b[0m \u001b[0;34m=\u001b[0m \u001b[0mdist\u001b[0m\u001b[0;34m.\u001b[0m\u001b[0mrvs\u001b[0m\u001b[0;34m(\u001b[0m\u001b[0mn\u001b[0m\u001b[0;34m)\u001b[0m\u001b[0;34m\u001b[0m\u001b[0m\n\u001b[0;32m----> 6\u001b[0;31m     \u001b[0mwde\u001b[0m \u001b[0;34m=\u001b[0m \u001b[0mWaveletDensityEstimator\u001b[0m\u001b[0;34m(\u001b[0m\u001b[0mwv\u001b[0m\u001b[0;34m,\u001b[0m \u001b[0;34m**\u001b[0m\u001b[0mkwargs\u001b[0m\u001b[0;34m)\u001b[0m\u001b[0;34m\u001b[0m\u001b[0m\n\u001b[0m\u001b[1;32m      7\u001b[0m     \u001b[0;31m#print data.mean(axis=0)\u001b[0m\u001b[0;34m\u001b[0m\u001b[0;34m\u001b[0m\u001b[0m\n\u001b[1;32m      8\u001b[0m     \u001b[0mwde\u001b[0m\u001b[0;34m.\u001b[0m\u001b[0mfit\u001b[0m\u001b[0;34m(\u001b[0m\u001b[0mdata\u001b[0m\u001b[0;34m)\u001b[0m\u001b[0;34m\u001b[0m\u001b[0m\n",
      "\u001b[0;32m/home/scientist/files/wde/python/wde/estimator.pyc\u001b[0m in \u001b[0;36m__init__\u001b[0;34m(self, wave_name, k, j0, j1, thresholding)\u001b[0m\n\u001b[1;32m     13\u001b[0m         \u001b[0mself\u001b[0m\u001b[0;34m.\u001b[0m\u001b[0mj0\u001b[0m \u001b[0;34m=\u001b[0m \u001b[0mj0\u001b[0m\u001b[0;34m\u001b[0m\u001b[0m\n\u001b[1;32m     14\u001b[0m         \u001b[0mself\u001b[0m\u001b[0;34m.\u001b[0m\u001b[0mj1\u001b[0m \u001b[0;34m=\u001b[0m \u001b[0mj1\u001b[0m \u001b[0;32mif\u001b[0m \u001b[0mj1\u001b[0m \u001b[0;32mis\u001b[0m \u001b[0;32mnot\u001b[0m \u001b[0mNone\u001b[0m \u001b[0;32melse\u001b[0m \u001b[0;34m(\u001b[0m\u001b[0mj0\u001b[0m \u001b[0;34m-\u001b[0m \u001b[0;36m1\u001b[0m\u001b[0;34m)\u001b[0m\u001b[0;34m\u001b[0m\u001b[0m\n\u001b[0;32m---> 15\u001b[0;31m         \u001b[0mself\u001b[0m\u001b[0;34m.\u001b[0m\u001b[0mmulti_supports\u001b[0m \u001b[0;34m=\u001b[0m \u001b[0mwave_support_info\u001b[0m\u001b[0;34m(\u001b[0m\u001b[0mself\u001b[0m\u001b[0;34m.\u001b[0m\u001b[0mwave\u001b[0m\u001b[0;34m)\u001b[0m\u001b[0;34m\u001b[0m\u001b[0m\n\u001b[0m\u001b[1;32m     16\u001b[0m         \u001b[0mself\u001b[0m\u001b[0;34m.\u001b[0m\u001b[0mpdf\u001b[0m \u001b[0;34m=\u001b[0m \u001b[0mNone\u001b[0m\u001b[0;34m\u001b[0m\u001b[0m\n\u001b[1;32m     17\u001b[0m         \u001b[0;32mif\u001b[0m \u001b[0mthresholding\u001b[0m \u001b[0;32mis\u001b[0m \u001b[0mNone\u001b[0m\u001b[0;34m:\u001b[0m\u001b[0;34m\u001b[0m\u001b[0m\n",
      "\u001b[0;32m/home/scientist/files/wde/python/wde/common.pyc\u001b[0m in \u001b[0;36mwave_support_info\u001b[0;34m(wave)\u001b[0m\n\u001b[1;32m     96\u001b[0m         \u001b[0mresp\u001b[0m\u001b[0;34m[\u001b[0m\u001b[0;34m'dual'\u001b[0m\u001b[0;34m]\u001b[0m \u001b[0;34m=\u001b[0m \u001b[0;34m(\u001b[0m\u001b[0mphi_support\u001b[0m\u001b[0;34m,\u001b[0m \u001b[0mpsi_support\u001b[0m\u001b[0;34m)\u001b[0m\u001b[0;34m\u001b[0m\u001b[0m\n\u001b[1;32m     97\u001b[0m     \u001b[0;32melif\u001b[0m \u001b[0mwave\u001b[0m\u001b[0;34m.\u001b[0m\u001b[0mfamily_name\u001b[0m \u001b[0;34m==\u001b[0m \u001b[0;34m'Biorthogonal'\u001b[0m\u001b[0;34m:\u001b[0m\u001b[0;34m\u001b[0m\u001b[0m\n\u001b[0;32m---> 98\u001b[0;31m         \u001b[0;32mraise\u001b[0m \u001b[0mValueError\u001b[0m\u001b[0;34m(\u001b[0m\u001b[0;34m'wave family %s not known support'\u001b[0m \u001b[0;34m%\u001b[0m \u001b[0mwave\u001b[0m\u001b[0;34m.\u001b[0m\u001b[0mfamily_name\u001b[0m\u001b[0;34m)\u001b[0m\u001b[0;34m\u001b[0m\u001b[0m\n\u001b[0m\u001b[1;32m     99\u001b[0m     \u001b[0;32melse\u001b[0m\u001b[0;34m:\u001b[0m\u001b[0;34m\u001b[0m\u001b[0m\n\u001b[1;32m    100\u001b[0m         \u001b[0;32mraise\u001b[0m \u001b[0mValueError\u001b[0m\u001b[0;34m(\u001b[0m\u001b[0;34m'wave family %s not known support'\u001b[0m \u001b[0;34m%\u001b[0m \u001b[0mwave\u001b[0m\u001b[0;34m.\u001b[0m\u001b[0mfamily_name\u001b[0m\u001b[0;34m)\u001b[0m\u001b[0;34m\u001b[0m\u001b[0m\n",
      "\u001b[0;31mValueError\u001b[0m: wave family Biorthogonal not known support"
     ]
    }
   ],
   "source": [
    "wde_glob = None\n",
    "def p11(n, wv, **kwargs):\n",
    "    global wde_glob\n",
    "    dist = u.dist_from_code('mix2')\n",
    "    data = dist.rvs(n)\n",
    "    wde = WaveletDensityEstimator(wv, **kwargs)\n",
    "    #print data.mean(axis=0)\n",
    "    wde.fit(data)\n",
    "    #print 'sum of coeffs',wde.norm_const\n",
    "    XX, YY = u.mise_mesh()\n",
    "    Z = dist.pdf((XX, YY))\n",
    "    ise = u.calc_ise(wde.pdf, Z)\n",
    "    print 'ISE j0=%d, j1=%d:' % (kwargs['j0'], kwargs['j1']), ise\n",
    "    contour_plot_it((dist,), data, 'Mult & WDE - n=%d, wv=%s, j0=%d, j1=%d' % (n, wv, kwargs['j0'], kwargs['j1']))\n",
    "    wde_glob = wde\n",
    "p11(512, 'bior4.4', j0=3, j1=0)"
   ]
  },
  {
   "cell_type": "code",
   "execution_count": 15,
   "metadata": {},
   "outputs": [
    {
     "name": "stdout",
     "output_type": "stream",
     "text": [
      "['dmey']\n",
      "[0.0, -0.1767766952966369, 0.3535533905932738, 1.0606601717798212, 0.3535533905932738, -0.1767766952966369] [-0.0, 0.3535533905932738, -0.7071067811865476, 0.3535533905932738, -0.0, 0.0]\n",
      "[0.0, 0.3535533905932738, 0.7071067811865476, 0.3535533905932738, 0.0, 0.0] [0.0, 0.1767766952966369, 0.3535533905932738, -1.0606601717798212, 0.3535533905932738, 0.1767766952966369]\n"
     ]
    }
   ],
   "source": [
    "import pywt\n",
    "print pywt.wavelist('dmey')\n",
    "wave = pywt.Wavelet('bior2.2')\n",
    "print wave.dec_lo, wave.dec_hi\n",
    "print wave.rec_lo, wave.rec_hi"
   ]
  },
  {
   "cell_type": "code",
   "execution_count": 9,
   "metadata": {},
   "outputs": [
    {
     "data": {
      "text/plain": [
       "5.65685424949238"
      ]
     },
     "execution_count": 9,
     "metadata": {},
     "output_type": "execute_result"
    }
   ],
   "source": [
    "1/0.1767766952966369"
   ]
  },
  {
   "cell_type": "code",
   "execution_count": 17,
   "metadata": {},
   "outputs": [
    {
     "data": {
      "text/plain": [
       "0.3535533905932738"
      ]
     },
     "execution_count": 17,
     "metadata": {},
     "output_type": "execute_result"
    }
   ],
   "source": [
    "0.125 ** 0.5"
   ]
  },
  {
   "cell_type": "code",
   "execution_count": null,
   "metadata": {
    "collapsed": true
   },
   "outputs": [],
   "source": []
  }
 ],
 "metadata": {
  "kernelspec": {
   "display_name": "Python 2",
   "language": "python",
   "name": "python2"
  },
  "language_info": {
   "codemirror_mode": {
    "name": "ipython",
    "version": 2
   },
   "file_extension": ".py",
   "mimetype": "text/x-python",
   "name": "python",
   "nbconvert_exporter": "python",
   "pygments_lexer": "ipython2",
   "version": "2.7.13"
  }
 },
 "nbformat": 4,
 "nbformat_minor": 2
}
